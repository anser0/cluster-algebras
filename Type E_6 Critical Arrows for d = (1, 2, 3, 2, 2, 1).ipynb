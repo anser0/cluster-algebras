{
 "cells": [
  {
   "cell_type": "code",
   "execution_count": 29,
   "metadata": {
    "collapsed": false
   },
   "outputs": [
   ],
   "source": [
    "from itertools import product\n",
    "\n",
    "d = (1, 2, 3, 2, 2, 1)\n",
    "\n",
    "# arrow possibilities for E_6\n",
    "a_p = [[[0, 1], [1, 0]], [[1, 2], [2, 1]], [[2, 3], [3, 2]], [[2, 4], [4, 2]], [[4, 5], [5, 4]]]\n",
    "\n",
    "all_possible_arrows = [\n",
    "    [a_p[0][a0], a_p[1][a1], a_p[2][a2], a_p[3][a3], a_p[4][a4]] \n",
    "    for (a0, a1, a2, a3, a4) in product(*[range(2) for i in range(5)])\n",
    "]\n",
    "\n",
    "# returns a string that is the F-polynomial for a given arrow orientation\n",
    "def get_f_poly(arrows1, dim_vec):\n",
    "    \n",
    "    # we correct for the fact that the program outputs an F-polynomial for the arrow orientation with all arrows reversed from our conventions\n",
    "    def reverse_arrows(arrows1): # arrows1 is a list of lists\n",
    "        return [[arrow[1], arrow[0]] for arrow in arrows1]\n",
    "\n",
    "    arrows = reverse_arrows(arrows1)\n",
    "    A = ClusterAlgebra(arrows); A \n",
    "    A.explore_to_depth(infinity)\n",
    "    GG = A.g_vectors_so_far()\n",
    "    for i in range(42):\n",
    "        if A.cluster_variable(GG[i]).d_vector() == dim_vec:\n",
    "            return str(A.F_polynomial(GG[i]))"
   ]
  },
  {
   "cell_type": "code",
   "execution_count": 30,
   "metadata": {
    "collapsed": false
   },
   "outputs": [
   ],
   "source": [
    "def check_acceptable(arrows, e):\n",
    "    for arrow in arrows:\n",
    "        i = arrow[0]\n",
    "        j = arrow[1]\n",
    "        if e[i] - e[j] > max(d[i] - d[j], 0):\n",
    "            return False\n",
    "    return True\n",
    "\n",
    "\n",
    "def get_all_configurations(d):\n",
    "    all_configurations = []\n",
    "    for e in product(*[range(i + 1) for i in d]):\n",
    "        if check_acceptable(arrows, e):\n",
    "            all_configurations.append(e)\n",
    "    return all_configurations"
   ]
  },
  {
   "cell_type": "code",
   "execution_count": 31,
   "metadata": {
    "collapsed": false
   },
   "outputs": [
   ],
   "source": [
    "# convert F-polynomial expressions into 6-tuples\n",
    "conversion = {\"u0\": (0, 1), \"u1\": (1, 1),  \"u2\": (2, 1),  \"u3\": (3, 1),  \"u4\": (4, 1),  \"u5\": (5, 1), \"u1^2\": (1, 2), \"u2^2\": (2, 2), \"u3^2\": (3, 2), \"u4^2\": (4, 2), \"u2^3\": (2, 3)}\n",
    "\n",
    "def convert_polynomial(polynomial_string): # input is a string, output is list of tuples\n",
    "    tuple_list = []\n",
    "    for monomial in polynomial_string.split(\" + \"):\n",
    "        build_tuple = [0, 0, 0, 0, 0, 0]\n",
    "        for u_i in monomial.split(\"*\"):\n",
    "            if u_i in conversion:\n",
    "                build_tuple[conversion[u_i][0]] += conversion[u_i][1]\n",
    "        tuple_list.append(tuple(build_tuple))\n",
    "    return tuple_list"
   ]
  },
  {
   "cell_type": "code",
   "execution_count": 32,
   "metadata": {
    "collapsed": false,
    "scrolled": true
   },
   "outputs": [
   ],
   "source": [
    "# conjectured critical arrows i --> j for (di, ei, dj, ej)\n",
    "conjectured_critical_arrows = [(1, 1, 2, 1), (2, 1, 1, 0), (2, 1, 3, 1), (3, 1, 2, 0), (2, 2, 3, 2), (3, 2, 2, 1)] \n",
    "\n",
    "def check_critical(cv):\n",
    "    type_1 = cv[0] + cv[1]\n",
    "    type_2 = cv[2] + cv[5]\n",
    "    type_3 = cv[3] + cv[4]\n",
    "    return (type_3 >= 2) or (type_2 >= 1 and type_3 >= 1) or (type_2 >= 3) or (type_1 >= 2 and type_2 >= 1) or (type_1 >= 1 and type_3 >= 1) or (type_1 >= 1 and type_2 >= 2)\n",
    "\n",
    "def get_critical(configurations):\n",
    "    critical_configurations = []\n",
    "    for e in configurations:\n",
    "        critical_vector = [0, 0, 0, 0, 0, 0] # number of each conjectured critical arrow\n",
    "        for arrow in arrows:\n",
    "            i = arrow[0]\n",
    "            j = arrow[1]\n",
    "            arrow_coords = (d[i], e[i], d[j], e[j])\n",
    "            for k in range(6):\n",
    "                if conjectured_critical_arrows[k] == arrow_coords:\n",
    "                    critical_vector[k] += 1 # this gets the critical vector\n",
    "            \n",
    "        if check_critical(critical_vector):\n",
    "            critical_configurations.append(e)\n",
    "    return critical_configurations"
   ]
  },
  {
   "cell_type": "code",
   "execution_count": 33,
   "metadata": {
    "collapsed": false
   },
   "outputs": [
    {
     "name": "stdout",
     "output_type": "stream",
     "text": [
      "arrows [[0, 1], [1, 2], [2, 3], [2, 4], [4, 5]]\n",
      "forbidden but not critical: set()\n",
      "critical but not forbidden: set()\n",
      "\n",
      "arrows [[0, 1], [1, 2], [2, 3], [2, 4], [5, 4]]\n",
      "forbidden but not critical: set()\n",
      "critical but not forbidden: set()\n",
      "\n",
      "arrows [[0, 1], [1, 2], [2, 3], [4, 2], [4, 5]]\n",
      "forbidden but not critical: set()\n",
      "critical but not forbidden: set()\n",
      "\n",
      "arrows [[0, 1], [1, 2], [2, 3], [4, 2], [5, 4]]\n",
      "forbidden but not critical: set()\n",
      "critical but not forbidden: set()\n",
      "\n",
      "arrows [[0, 1], [1, 2], [3, 2], [2, 4], [4, 5]]\n",
      "forbidden but not critical: set()\n",
      "critical but not forbidden: set()\n",
      "\n",
      "arrows [[0, 1], [1, 2], [3, 2], [2, 4], [5, 4]]\n",
      "forbidden but not critical: set()\n",
      "critical but not forbidden: set()\n",
      "\n",
      "arrows [[0, 1], [1, 2], [3, 2], [4, 2], [4, 5]]\n",
      "forbidden but not critical: set()\n",
      "critical but not forbidden: set()\n",
      "\n",
      "arrows [[0, 1], [1, 2], [3, 2], [4, 2], [5, 4]]\n",
      "forbidden but not critical: set()\n",
      "critical but not forbidden: set()\n",
      "\n",
      "arrows [[0, 1], [2, 1], [2, 3], [2, 4], [4, 5]]\n",
      "forbidden but not critical: set()\n",
      "critical but not forbidden: set()\n",
      "\n",
      "arrows [[0, 1], [2, 1], [2, 3], [2, 4], [5, 4]]\n",
      "forbidden but not critical: set()\n",
      "critical but not forbidden: set()\n",
      "\n",
      "arrows [[0, 1], [2, 1], [2, 3], [4, 2], [4, 5]]\n",
      "forbidden but not critical: set()\n",
      "critical but not forbidden: set()\n",
      "\n",
      "arrows [[0, 1], [2, 1], [2, 3], [4, 2], [5, 4]]\n",
      "forbidden but not critical: set()\n",
      "critical but not forbidden: set()\n",
      "\n",
      "arrows [[0, 1], [2, 1], [3, 2], [2, 4], [4, 5]]\n",
      "forbidden but not critical: set()\n",
      "critical but not forbidden: set()\n",
      "\n",
      "arrows [[0, 1], [2, 1], [3, 2], [2, 4], [5, 4]]\n",
      "forbidden but not critical: set()\n",
      "critical but not forbidden: set()\n",
      "\n",
      "arrows [[0, 1], [2, 1], [3, 2], [4, 2], [4, 5]]\n"
     ]
    },
    {
     "name": "stdout",
     "output_type": "stream",
     "text": [
      "forbidden but not critical: set()\n",
      "critical but not forbidden: set()\n",
      "\n",
      "arrows [[0, 1], [2, 1], [3, 2], [4, 2], [5, 4]]\n",
      "forbidden but not critical: set()\n",
      "critical but not forbidden: set()\n",
      "\n",
      "arrows [[1, 0], [1, 2], [2, 3], [2, 4], [4, 5]]\n",
      "forbidden but not critical: set()\n",
      "critical but not forbidden: set()\n",
      "\n",
      "arrows [[1, 0], [1, 2], [2, 3], [2, 4], [5, 4]]\n",
      "forbidden but not critical: set()\n",
      "critical but not forbidden: set()\n",
      "\n",
      "arrows [[1, 0], [1, 2], [2, 3], [4, 2], [4, 5]]\n",
      "forbidden but not critical: set()\n",
      "critical but not forbidden: set()\n",
      "\n",
      "arrows [[1, 0], [1, 2], [2, 3], [4, 2], [5, 4]]\n",
      "forbidden but not critical: set()\n",
      "critical but not forbidden: set()\n",
      "\n",
      "arrows [[1, 0], [1, 2], [3, 2], [2, 4], [4, 5]]\n",
      "forbidden but not critical: set()\n",
      "critical but not forbidden: set()\n",
      "\n",
      "arrows [[1, 0], [1, 2], [3, 2], [2, 4], [5, 4]]\n",
      "forbidden but not critical: set()\n",
      "critical but not forbidden: set()\n",
      "\n",
      "arrows [[1, 0], [1, 2], [3, 2], [4, 2], [4, 5]]\n",
      "forbidden but not critical: set()\n",
      "critical but not forbidden: set()\n",
      "\n",
      "arrows [[1, 0], [1, 2], [3, 2], [4, 2], [5, 4]]\n",
      "forbidden but not critical: set()\n",
      "critical but not forbidden: set()\n",
      "\n",
      "arrows [[1, 0], [2, 1], [2, 3], [2, 4], [4, 5]]\n",
      "forbidden but not critical: set()\n",
      "critical but not forbidden: set()\n",
      "\n",
      "arrows [[1, 0], [2, 1], [2, 3], [2, 4], [5, 4]]\n",
      "forbidden but not critical: set()\n",
      "critical but not forbidden: set()\n",
      "\n",
      "arrows [[1, 0], [2, 1], [2, 3], [4, 2], [4, 5]]\n",
      "forbidden but not critical: set()\n",
      "critical but not forbidden: set()\n",
      "\n",
      "arrows [[1, 0], [2, 1], [2, 3], [4, 2], [5, 4]]\n",
      "forbidden but not critical: set()\n",
      "critical but not forbidden: set()\n",
      "\n",
      "arrows [[1, 0], [2, 1], [3, 2], [2, 4], [4, 5]]\n",
      "forbidden but not critical: set()\n",
      "critical but not forbidden: set()\n",
      "\n",
      "arrows [[1, 0], [2, 1], [3, 2], [2, 4], [5, 4]]\n"
     ]
    },
    {
     "name": "stdout",
     "output_type": "stream",
     "text": [
      "forbidden but not critical: set()\n",
      "critical but not forbidden: set()\n",
      "\n",
      "arrows [[1, 0], [2, 1], [3, 2], [4, 2], [4, 5]]\n",
      "forbidden but not critical: set()\n",
      "critical but not forbidden: set()\n",
      "\n",
      "arrows [[1, 0], [2, 1], [3, 2], [4, 2], [5, 4]]\n",
      "forbidden but not critical: set()\n",
      "critical but not forbidden: set()\n",
      "\n"
     ]
    }
   ],
   "source": [
    "# print each possible arrow orientation and the sets of \"forbidden but not critical\" and \"critical but not forbidden\" configurations (which should both be empty)\n",
    "for arrows in all_possible_arrows:\n",
    "    print(\"arrow orientation:\", arrows)\n",
    "    poly = get_f_poly(arrows, d)\n",
    "    allowed_configurations = convert_polynomial(poly)\n",
    "    forbidden_configurations = get_all_configurations(d)\n",
    "    for monomial_tuple in allowed_configurations:\n",
    "        forbidden_configurations.remove(monomial_tuple)\n",
    "    print(\"forbidden but not critical:\", set(forbidden_configurations).difference(set(get_critical(get_all_configurations(d)))))\n",
    "    print(\"critical but not forbidden:\", set(get_critical(get_all_configurations(d))).difference(set(forbidden_configurations)))\n",
    "    print()"
   ]
  }
 ],
 "metadata": {
  "kernelspec": {
   "argv": [
    "sage-10.3",
    "--python",
    "-m",
    "sage.repl.ipython_kernel",
    "--matplotlib=inline",
    "-f",
    "{connection_file}"
   ],
   "display_name": "SageMath 10.3",
   "env": {
   },
   "language": "sagemath",
   "metadata": {
    "cocalc": {
     "description": "Open-source mathematical software system",
     "priority": 10,
     "url": "https://www.sagemath.org/"
    }
   },
   "name": "sage-10.3",
   "resource_dir": "/ext/jupyter/kernels/sage-10.3"
  },
  "language_info": {
   "codemirror_mode": {
    "name": "ipython",
    "version": 3
   },
   "file_extension": ".py",
   "mimetype": "text/x-python",
   "name": "python",
   "nbconvert_exporter": "python",
   "pygments_lexer": "ipython3",
   "version": "3.11.1"
  }
 },
 "nbformat": 4,
 "nbformat_minor": 4
}